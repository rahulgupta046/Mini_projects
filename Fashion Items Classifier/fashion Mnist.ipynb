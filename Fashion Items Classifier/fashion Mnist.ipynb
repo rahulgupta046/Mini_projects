{
 "cells": [
  {
   "cell_type": "code",
   "execution_count": 15,
   "metadata": {},
   "outputs": [],
   "source": [
    "import numpy as np\n",
    "import pandas as pd \n",
    "import matplotlib.pyplot as plt\n",
    "from keras.models import Sequential\n",
    "from keras.layers import Convolution2D, MaxPooling2D, Flatten, Dropout, Dense\n",
    "from keras.utils import np_utils\n",
    "import tensorflow"
   ]
  },
  {
   "cell_type": "code",
   "execution_count": 17,
   "metadata": {},
   "outputs": [],
   "source": [
    "x_data = pd.read_csv('fashion-mnist_train.csv')\n",
    "test = pd.read_csv('fashion-mnist_test.csv')"
   ]
  },
  {
   "cell_type": "code",
   "execution_count": 42,
   "metadata": {},
   "outputs": [],
   "source": [
    "x_ = np.array(x_data)\n",
    "x = x_[:,1:]\n",
    "x = x/255.0\n",
    "y = x_[:,0]\n",
    "\n",
    "test_ = np.array(test)\n",
    "x_t =  test_[:,1:]\n",
    "x_t = x_t/255.0\n",
    "y_t = test_[:,0]"
   ]
  },
  {
   "cell_type": "code",
   "execution_count": 43,
   "metadata": {},
   "outputs": [
    {
     "name": "stdout",
     "output_type": "stream",
     "text": [
      "(60000, 28, 28, 1) (60000, 10)\n",
      "(10000, 28, 28, 1) (10000, 10)\n"
     ]
    }
   ],
   "source": [
    "#reshaping for network\n",
    "\n",
    "x_train = x.reshape((-1,28,28,1))\n",
    "y_train = np_utils.to_categorical(y)  # to create one hot notation\n",
    "print(x_train.shape, y_train.shape)\n",
    "\n",
    "x_test = x_t.reshape((-1,28,28,1))\n",
    "y_test = np_utils.to_categorical(y_t)  # to create one hot notation\n",
    "print(x_test.shape, y_test.shape)"
   ]
  },
  {
   "cell_type": "code",
   "execution_count": null,
   "metadata": {},
   "outputs": [],
   "source": []
  },
  {
   "cell_type": "code",
   "execution_count": null,
   "metadata": {},
   "outputs": [],
   "source": []
  },
  {
   "cell_type": "code",
   "execution_count": null,
   "metadata": {},
   "outputs": [],
   "source": []
  },
  {
   "cell_type": "code",
   "execution_count": 28,
   "metadata": {},
   "outputs": [
    {
     "name": "stdout",
     "output_type": "stream",
     "text": [
      "Model: \"sequential_8\"\n",
      "_________________________________________________________________\n",
      "Layer (type)                 Output Shape              Param #   \n",
      "=================================================================\n",
      "conv2d_39 (Conv2D)           (None, 26, 26, 32)        320       \n",
      "_________________________________________________________________\n",
      "conv2d_40 (Conv2D)           (None, 24, 24, 64)        18496     \n",
      "_________________________________________________________________\n",
      "dropout_13 (Dropout)         (None, 24, 24, 64)        0         \n",
      "_________________________________________________________________\n",
      "max_pooling2d_13 (MaxPooling (None, 12, 12, 64)        0         \n",
      "_________________________________________________________________\n",
      "conv2d_41 (Conv2D)           (None, 10, 10, 128)       73856     \n",
      "_________________________________________________________________\n",
      "conv2d_42 (Conv2D)           (None, 8, 8, 64)          73792     \n",
      "_________________________________________________________________\n",
      "dropout_14 (Dropout)         (None, 8, 8, 64)          0         \n",
      "_________________________________________________________________\n",
      "max_pooling2d_14 (MaxPooling (None, 4, 4, 64)          0         \n",
      "_________________________________________________________________\n",
      "conv2d_43 (Conv2D)           (None, 3, 3, 32)          8224      \n",
      "_________________________________________________________________\n",
      "conv2d_44 (Conv2D)           (None, 16, 2, 31)         208       \n",
      "_________________________________________________________________\n",
      "flatten_4 (Flatten)          (None, 992)               0         \n",
      "_________________________________________________________________\n",
      "dense_4 (Dense)              (None, 10)                9930      \n",
      "=================================================================\n",
      "Total params: 184,826\n",
      "Trainable params: 184,826\n",
      "Non-trainable params: 0\n",
      "_________________________________________________________________\n"
     ]
    }
   ],
   "source": [
    "#creating CNN model\n",
    "model = Sequential()\n",
    "model.add(Convolution2D(32,(3,3), activation = 'relu', input_shape = (28,28,1)))\n",
    "model.add(Convolution2D(64,(3,3), activation = 'relu'))\n",
    "model.add(Dropout(.25))\n",
    "model.add(MaxPooling2D(2,2))\n",
    "\n",
    "model.add(Convolution2D(128,(3,3), activation = 'relu'))\n",
    "model.add(Convolution2D(64,(3,3), activation = 'relu'))\n",
    "model.add(Dropout(.25))\n",
    "model.add(MaxPooling2D(2,2))\n",
    "\n",
    "model.add(Convolution2D(32,(2,2), activation = 'relu'))\n",
    "model.add(Convolution2D(16,(2,2), activation = 'relu', data_format = 'channels_first'))\n",
    "model.add(Flatten())\n",
    "\n",
    "model.add(Dense(10,activation = 'softmax'))\n",
    "\n",
    "model.summary()"
   ]
  },
  {
   "cell_type": "code",
   "execution_count": 29,
   "metadata": {},
   "outputs": [],
   "source": [
    "model.compile(loss ='categorical_crossentropy', optimizer = 'adam', metrics = ['accuracy'])"
   ]
  },
  {
   "cell_type": "code",
   "execution_count": 30,
   "metadata": {
    "scrolled": true
   },
   "outputs": [
    {
     "name": "stdout",
     "output_type": "stream",
     "text": [
      "Train on 48000 samples, validate on 12000 samples\n",
      "Epoch 1/10\n",
      "48000/48000 [==============================] - 68s 1ms/step - loss: 0.7709 - accuracy: 0.7106 - val_loss: 0.5663 - val_accuracy: 0.8188\n",
      "Epoch 2/10\n",
      "48000/48000 [==============================] - 73s 2ms/step - loss: 0.4511 - accuracy: 0.8334 - val_loss: 0.4445 - val_accuracy: 0.8596\n",
      "Epoch 3/10\n",
      "48000/48000 [==============================] - 65s 1ms/step - loss: 0.3696 - accuracy: 0.8659 - val_loss: 0.3907 - val_accuracy: 0.8750\n",
      "Epoch 4/10\n",
      "48000/48000 [==============================] - 64s 1ms/step - loss: 0.3272 - accuracy: 0.8819 - val_loss: 0.3478 - val_accuracy: 0.8869\n",
      "Epoch 5/10\n",
      "48000/48000 [==============================] - 64s 1ms/step - loss: 0.2897 - accuracy: 0.8945 - val_loss: 0.3170 - val_accuracy: 0.8978\n",
      "Epoch 6/10\n",
      "48000/48000 [==============================] - 64s 1ms/step - loss: 0.2750 - accuracy: 0.8998 - val_loss: 0.3188 - val_accuracy: 0.8980\n",
      "Epoch 7/10\n",
      "48000/48000 [==============================] - 66s 1ms/step - loss: 0.2553 - accuracy: 0.9068 - val_loss: 0.2852 - val_accuracy: 0.9033\n",
      "Epoch 8/10\n",
      "48000/48000 [==============================] - 61s 1ms/step - loss: 0.2449 - accuracy: 0.9114 - val_loss: 0.2868 - val_accuracy: 0.9113\n",
      "Epoch 9/10\n",
      "48000/48000 [==============================] - 61s 1ms/step - loss: 0.2296 - accuracy: 0.9158 - val_loss: 0.2625 - val_accuracy: 0.9149\n",
      "Epoch 10/10\n",
      "48000/48000 [==============================] - 61s 1ms/step - loss: 0.2181 - accuracy: 0.9197 - val_loss: 0.2846 - val_accuracy: 0.9118\n"
     ]
    }
   ],
   "source": [
    "hist = model.fit(x_train, y_train, epochs = 10, shuffle = True, batch_size = 256, validation_split = 0.2)"
   ]
  },
  {
   "cell_type": "code",
   "execution_count": 44,
   "metadata": {},
   "outputs": [
    {
     "data": {
      "image/png": "[encoded data removed]",
      "text/plain": [
       "<Figure size 432x288 with 1 Axes>"
      ]
     },
     "metadata": {
      "needs_background": "light"
     },
     "output_type": "display_data"
    }
   ],
   "source": [
    "plt.figure(0)\n",
    "plt.plot(hist.history['loss'], 'g')\n",
    "plt.plot(hist.history['val_loss'], 'b')\n",
    "plt.plot(hist.history['accuracy'], 'r')\n",
    "plt.plot(hist.history['val_accuracy'], 'black')\n",
    "plt.show()"
   ]
  },
  {
   "cell_type": "code",
   "execution_count": 45,
   "metadata": {},
   "outputs": [
    {
     "data": {
      "text/plain": [
       "dict_keys(['val_loss', 'val_accuracy', 'loss', 'accuracy'])"
      ]
     },
     "execution_count": 45,
     "metadata": {},
     "output_type": "execute_result"
    }
   ],
   "source": [
    "hist.history.keys()"
   ]
  },
  {
   "cell_type": "code",
   "execution_count": 46,
   "metadata": {},
   "outputs": [
    {
     "name": "stdout",
     "output_type": "stream",
     "text": [
      "0.873975 0.8877499997615814\n"
     ]
    }
   ],
   "source": [
    "print(np.mean(hist.history['accuracy']), np.mean(hist.history['val_accuracy']))"
   ]
  },
  {
   "cell_type": "code",
   "execution_count": 47,
   "metadata": {},
   "outputs": [
    {
     "data": {
      "text/plain": [
       "10"
      ]
     },
     "execution_count": 47,
     "metadata": {},
     "output_type": "execute_result"
    }
   ],
   "source": [
    "len(hist.history['accuracy'])"
   ]
  },
  {
   "cell_type": "code",
   "execution_count": 48,
   "metadata": {},
   "outputs": [
    {
     "name": "stdout",
     "output_type": "stream",
     "text": [
      "10000/10000 [==============================] - 3s 311us/step\n"
     ]
    },
    {
     "data": {
      "text/plain": [
       "[0.2774016491174698, 0.9147999882698059]"
      ]
     },
     "execution_count": 48,
     "metadata": {},
     "output_type": "execute_result"
    }
   ],
   "source": [
    "model.evaluate(x_test,y_test)"
   ]
  },
  {
   "cell_type": "code",
   "execution_count": null,
   "metadata": {},
   "outputs": [],
   "source": []
  }
 ],
 "metadata": {
  "kernelspec": {
   "display_name": "Python 3",
   "language": "python",
   "name": "python3"
  },
  "language_info": {
   "codemirror_mode": {
    "name": "ipython",
    "version": 3
   },
   "file_extension": ".py",
   "mimetype": "text/x-python",
   "name": "python",
   "nbconvert_exporter": "python",
   "pygments_lexer": "ipython3",
   "version": "3.7.6"
  }
 },
 "nbformat": 4,
 "nbformat_minor": 4
}
