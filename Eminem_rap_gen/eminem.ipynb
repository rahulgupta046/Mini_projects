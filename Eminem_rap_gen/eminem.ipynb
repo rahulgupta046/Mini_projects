{
 "cells": [
  {
   "cell_type": "code",
   "execution_count": 3,
   "id": "a400763c",
   "metadata": {},
   "outputs": [],
   "source": [
    "#Generate markov chain table using song data\n",
    "import numpy as np"
   ]
  },
  {
   "cell_type": "code",
   "execution_count": 4,
   "id": "988b5525",
   "metadata": {},
   "outputs": [],
   "source": [
    "# function to read lyrics\n",
    "def load_text(filename):\n",
    "    with open(filename, encoding = \"utf8\") as f:\n",
    "        return f.read().lower()\n",
    "    \n",
    "#create transition table from input text\n",
    "def generateTable(data, k=4):\n",
    "    T = {}\n",
    "    for i in range(len(data) - k):\n",
    "        x = data[i : i+k]\n",
    "        y = data[i+k]\n",
    "        #print(\"X \", x, \"Y \", y)\n",
    "        \n",
    "        if T.get(x) is None:\n",
    "            T[x] = {}\n",
    "            T[x][y] = 1\n",
    "        else:\n",
    "            if T[x].get(y) is None:\n",
    "                T[x][y] = 1\n",
    "            else:\n",
    "                T[x][y] += 1\n",
    "        \n",
    "        \n",
    "    return T\n",
    "\n",
    "#complete transition table by converting frequency to probability\n",
    "def convertFreqToProb(T):\n",
    "    for kx in T.keys():\n",
    "        s = float(sum(T[kx].values()))\n",
    "        for k in T[kx].keys():\n",
    "            T[kx][k]  =T[kx][k]/s\n",
    "    return T\n",
    "\n",
    "\n",
    "## generate Text at text time, to get next character\n",
    "def sample_next(ctx, T, k):\n",
    "    ctx = ctx[-k:]\n",
    "    if T.get(ctx) is None:\n",
    "        return \" \"\n",
    "    possible_chars = list(T[ctx].keys())\n",
    "    possible_vals = list(T[ctx].values())\n",
    "    \n",
    "    return np.random.choice(possible_chars, p = possible_vals)\n",
    "\n",
    "\n",
    "\n",
    "#train markov chain, create the model for text generation\n",
    "def trainMarkovChain(text, k):\n",
    "    T = generateTable(text, k)\n",
    "    T = convertFreqToProb(T)\n",
    "    \n",
    "    return T\n",
    "\n",
    "\n",
    "\n",
    "#function to generate text strating from starting_sent\n",
    "def generateText(starting_sent, model_current, k = 4, maxLen = 1000):\n",
    "    np.random.seed(11)\n",
    "    sentence = starting_sent\n",
    "    ctx = starting_sent[-k:]\n",
    "    for ix in range(maxLen):\n",
    "        next_pred = sample_next(ctx, model_current, k)\n",
    "        sentence += next_pred\n",
    "        ctx = sentence[-k:]\n",
    "    return sentence\n"
   ]
  },
  {
   "cell_type": "code",
   "execution_count": 6,
   "id": "e244f9c5",
   "metadata": {},
   "outputs": [
    {
     "name": "stdout",
     "output_type": "stream",
     "text": [
      "enter the strating wordhello\n"
     ]
    }
   ],
   "source": [
    "PATH = 'song_data.txt'\n",
    "#load text data\n",
    "data = load_text(PATH)\n",
    "\n",
    "#get starting word\n",
    "word = input(\"enter the strating word \")\n",
    "\n",
    "#create model\n",
    "model = trainMarkovChain(data, k=len(word))\n",
    "\n",
    "#generate lyrics\n",
    "output = generateText(word, model, k = len(word), maxLen = 2000)\n",
    "\n",
    "#write ouput to file\n",
    "with open(\"output.txt\",\"w\", encoding = \"utf8\") as f_out:\n",
    "    f_out.write(output)"
   ]
  },
  {
   "cell_type": "code",
   "execution_count": null,
   "id": "9a21da19",
   "metadata": {},
   "outputs": [],
   "source": []
  }
 ],
 "metadata": {
  "kernelspec": {
   "display_name": "Python 3",
   "language": "python",
   "name": "python3"
  },
  "language_info": {
   "codemirror_mode": {
    "name": "ipython",
    "version": 3
   },
   "file_extension": ".py",
   "mimetype": "text/x-python",
   "name": "python",
   "nbconvert_exporter": "python",
   "pygments_lexer": "ipython3",
   "version": "3.6.13"
  }
 },
 "nbformat": 4,
 "nbformat_minor": 5
}
